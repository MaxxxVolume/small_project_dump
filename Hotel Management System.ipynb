{
 "cells": [
  {
   "cell_type": "markdown",
   "id": "6b5a6c6a-8077-4728-b475-5cae98bd3488",
   "metadata": {},
   "source": [
    "# Project: Creating a small Hotel Management System "
   ]
  },
  {
   "cell_type": "markdown",
   "id": "7933758a-396f-40e1-a8be-b9ae763b05cd",
   "metadata": {},
   "source": [
    "## Creating the Rooms for the Hotel"
   ]
  },
  {
   "cell_type": "code",
   "execution_count": 48,
   "id": "9ca8a721-5e9c-48b2-9a65-60176f568c71",
   "metadata": {},
   "outputs": [],
   "source": [
    "# creating a room class, where the rooms will be created and stored in\n",
    "class Room:\n",
    "    def __init__ (self, category, floor, roomnumber, price_book):\n",
    "        \"\"\"\n",
    "        Method to create and store all the Rooms\n",
    "\n",
    "        Categories: 12x Standard, 12x Superior, 5x Suite, 1x Premium Suite\n",
    "        Floor: 1, 2 or 3\n",
    "        Roomnumbers: floor and number 01 - 10 (e.g 101)\n",
    "        Price_Book = price book to use \n",
    "        \"\"\"\n",
    "        self.category = category\n",
    "        self.floor = floor\n",
    "        self.roomnumber = roomnumber\n",
    "        self.price = price_book[self.category]\n",
    "        self.is_occupied = False\n",
    "        self.is_dirty = False\n",
    "        \n",
    "        # defining a conditional statement to choose the view automatically \n",
    "        if roomnumber % 2 == 0 :\n",
    "            self.view = 'sea'\n",
    "        else:\n",
    "            self.view = 'garden'\n",
    "\n",
    "    # defining a method to occupy a room\n",
    "    def occupy (self):\n",
    "      self.is_occupied = True\n",
    "\n",
    "# defining a method to vacate a room\n",
    "    def vacate (self):\n",
    "      self.is_occupied = False\n",
    "      self.is_dirty = True\n",
    "\n",
    "# defining a method to clean the room \n",
    "    def clean (self):\n",
    "        self.is_dirty = False\n",
    "\n",
    "# defining a method to represent the rooms\n",
    "    def __repr__ (self):\n",
    "        return f'Room: #{self.roomnumber}\\t Category: {self.category}\\t Price: {self.price} EUR per night\\t Occupied: {self.is_occupied}\\t Dirty: {self.is_dirty}\\n'"
   ]
  },
  {
   "cell_type": "markdown",
   "id": "7651733c-0a9c-490b-b646-6772e44d4e7d",
   "metadata": {},
   "source": [
    "## Creating the Hotel itself"
   ]
  },
  {
   "cell_type": "code",
   "execution_count": 56,
   "id": "3a3ed1ea-38a4-40df-9fa9-1b61322d377a",
   "metadata": {},
   "outputs": [],
   "source": [
    "# creating the hotel class \n",
    "class Hotel:\n",
    "    def __init__(self, name):\n",
    "        self.name = name\n",
    "        self.rooms = []\n",
    "\n",
    "# defining the method to add rooms to the hotel      \n",
    "    def add_room (self, room):      \n",
    "        for existing_room in self.rooms:\n",
    "            if existing_room.roomnumber == room.roomnumber:\n",
    "                return f'Room {existing_room} already exists. Please try again'\n",
    "        self.rooms.append(room)\n",
    "\n",
    "# defining a method to sort the rooms by roomnumber\n",
    "    def sort_rooms (self):\n",
    "        self.rooms.sort(key=lambda room: room.roomnumber)\n",
    "              \n",
    "# defining a method to display the rooms in the hotel\n",
    "    def display_rooms (self):\n",
    "        for room in self.rooms:\n",
    "            print(room)\n",
    "\n",
    "# defining a check in method to occupy rooms in the hotel\n",
    "    def check_in (self, room_number_to_find):\n",
    "        for room in self.rooms:\n",
    "            if room_number_to_find == room.roomnumber:\n",
    "                if room.is_occupied == True:\n",
    "                    print(f'#{room.roomnumber} is occupied!\\n Please choose another room.')\n",
    "                elif room.is_dirty == True:\n",
    "                    print(f'#{room.roomnumber} is dirty!\\n please choose another room.')\n",
    "                else:\n",
    "                    return room.occupy()"
   ]
  },
  {
   "cell_type": "markdown",
   "id": "9bbab8b2-eb94-4dda-8798-2a9d9ca7f101",
   "metadata": {},
   "source": [
    "## Final Creation of the Hotel and defaults to use"
   ]
  },
  {
   "cell_type": "code",
   "execution_count": 41,
   "id": "c701ab1b-ca5d-45d5-93e1-5148f017a461",
   "metadata": {},
   "outputs": [],
   "source": [
    "# creating the hotel\n",
    "hotel_neptune = Hotel('GrandHotel Neptune')\n",
    "\n",
    "# creating a defaults to be used in the hotel\n",
    "NUMBER_OF_FLOORS = 3\n",
    "ROOMS_PER_FLOOR = 10\n",
    "\n",
    "ROOM_CATEGORIES = ('Standard', 'Superior', 'Suite', 'Premium Suite')\n",
    "\n",
    "VIEW_OPTIONS = ('sea', 'garden')\n",
    "\n",
    "DEFAULT_PRICE_LIST = {'Standard': 250.00, 'Superior': 295.00, 'Suite': 350.00, 'Premium Suite': 405.00}"
   ]
  },
  {
   "cell_type": "markdown",
   "id": "a4adfe05-41c4-4780-9e52-0a29675c76aa",
   "metadata": {},
   "source": [
    "## Creating the special Rooms"
   ]
  },
  {
   "cell_type": "code",
   "execution_count": 42,
   "id": "2308f978-0c84-4973-814d-ea7648c99620",
   "metadata": {},
   "outputs": [
    {
     "name": "stdout",
     "output_type": "stream",
     "text": [
      "Room: #310\t Category: Premium Suite\t Price: 405.0 EUR per night\n",
      "\n",
      "Room: #105\t Category: Suite\t Price: 350.0 EUR per night\n",
      "\n",
      "Room: #205\t Category: Suite\t Price: 350.0 EUR per night\n",
      "\n",
      "Room: #206\t Category: Suite\t Price: 350.0 EUR per night\n",
      "\n",
      "Room: #305\t Category: Suite\t Price: 350.0 EUR per night\n",
      "\n",
      "Room: #306\t Category: Suite\t Price: 350.0 EUR per night\n",
      "\n"
     ]
    }
   ],
   "source": [
    "# creating the Premium Suite\n",
    "prs_310 = Room('Premium Suite', 3, 310, DEFAULT_PRICE_LIST)\n",
    "\n",
    "# creatint the Suites\n",
    "sui_105 = Room('Suite', 1, 105, DEFAULT_PRICE_LIST)\n",
    "sui_205 = Room('Suite', 2, 205, DEFAULT_PRICE_LIST)\n",
    "sui_206 = Room('Suite', 2, 206, DEFAULT_PRICE_LIST)\n",
    "sui_305 = Room('Suite', 3, 305, DEFAULT_PRICE_LIST)\n",
    "sui_306 = Room('Suite', 3, 306, DEFAULT_PRICE_LIST)\n",
    "\n",
    "# adding the special rooms to the hotel\n",
    "hotel_neptune.add_room(prs_310)\n",
    "hotel_neptune.add_room(sui_105)\n",
    "hotel_neptune.add_room(sui_205)\n",
    "hotel_neptune.add_room(sui_206)\n",
    "hotel_neptune.add_room(sui_305)\n",
    "hotel_neptune.add_room(sui_306)\n",
    "\n",
    "# checking if all the rooms are added\n",
    "hotel_neptune.display_rooms()"
   ]
  },
  {
   "cell_type": "markdown",
   "id": "917bbfc5-eabf-4b8b-bd73-3e7757f32095",
   "metadata": {},
   "source": [
    "## Creating the Standard and Superior Rooms "
   ]
  },
  {
   "cell_type": "code",
   "execution_count": 43,
   "id": "47ae3e48-28f9-4f6f-859b-3fa731641a1e",
   "metadata": {},
   "outputs": [
    {
     "name": "stdout",
     "output_type": "stream",
     "text": [
      "[310, 105, 205, 206, 305, 306]\n"
     ]
    }
   ],
   "source": [
    "# creating a list of all used room numbers\n",
    "used_room_numbers = []\n",
    "\n",
    "for room in hotel_neptune.rooms:\n",
    "    used_room_numbers.append(room.roomnumber)\n",
    "\n",
    "print(used_room_numbers)"
   ]
  },
  {
   "cell_type": "code",
   "execution_count": 58,
   "id": "9472d5c0-2274-49ea-8b9e-008c5f13104e",
   "metadata": {
    "scrolled": true
   },
   "outputs": [],
   "source": [
    "#importing to choose random of both categories\n",
    "import random \n",
    "\n",
    "# loop throuhgh the range of floors and rooms per floor to generate roomnumbers\n",
    "for floor in range(1, NUMBER_OF_FLOORS + 1):\n",
    "    for room_no in range(1, ROOMS_PER_FLOOR + 1):\n",
    "        room_number = floor * 100 + room_no\n",
    "\n",
    "        # checking if the roomnumber is free to use and implementing it into the hotel\n",
    "        if room_number not in used_room_numbers:\n",
    "            random_cat = random.choice(ROOM_CATEGORIES[:2])\n",
    "            hotel_neptune.add_room(Room(random_cat, floor, room_number,DEFAULT_PRICE_LIST))\n",
    "\n",
    "# checking it it worked\n",
    "hotel_neptune.sort_rooms()"
   ]
  },
  {
   "cell_type": "code",
   "execution_count": 59,
   "id": "4b0dd27c-7c26-455b-b3a1-05877c9cd012",
   "metadata": {},
   "outputs": [
    {
     "name": "stdout",
     "output_type": "stream",
     "text": [
      "Room: #101\t Category: Superior\t Price: 295.0 EUR per night\n",
      "\n",
      "Room: #102\t Category: Superior\t Price: 295.0 EUR per night\n",
      "\n",
      "Room: #103\t Category: Standard\t Price: 250.0 EUR per night\n",
      "\n",
      "Room: #104\t Category: Standard\t Price: 250.0 EUR per night\n",
      "\n",
      "Room: #105\t Category: Suite\t Price: 350.0 EUR per night\n",
      "\n",
      "Room: #106\t Category: Standard\t Price: 250.0 EUR per night\n",
      "\n",
      "Room: #107\t Category: Standard\t Price: 250.0 EUR per night\n",
      "\n",
      "Room: #108\t Category: Superior\t Price: 295.0 EUR per night\n",
      "\n",
      "Room: #109\t Category: Superior\t Price: 295.0 EUR per night\n",
      "\n",
      "Room: #110\t Category: Superior\t Price: 295.0 EUR per night\n",
      "\n",
      "Room: #201\t Category: Standard\t Price: 250.0 EUR per night\n",
      "\n",
      "Room: #202\t Category: Standard\t Price: 250.0 EUR per night\n",
      "\n",
      "Room: #203\t Category: Standard\t Price: 250.0 EUR per night\n",
      "\n",
      "Room: #204\t Category: Superior\t Price: 295.0 EUR per night\n",
      "\n",
      "Room: #205\t Category: Suite\t Price: 350.0 EUR per night\n",
      "\n",
      "Room: #206\t Category: Suite\t Price: 350.0 EUR per night\n",
      "\n",
      "Room: #207\t Category: Standard\t Price: 250.0 EUR per night\n",
      "\n",
      "Room: #208\t Category: Standard\t Price: 250.0 EUR per night\n",
      "\n",
      "Room: #209\t Category: Standard\t Price: 250.0 EUR per night\n",
      "\n",
      "Room: #210\t Category: Superior\t Price: 295.0 EUR per night\n",
      "\n",
      "Room: #301\t Category: Standard\t Price: 250.0 EUR per night\n",
      "\n",
      "Room: #302\t Category: Superior\t Price: 295.0 EUR per night\n",
      "\n",
      "Room: #303\t Category: Standard\t Price: 250.0 EUR per night\n",
      "\n",
      "Room: #304\t Category: Superior\t Price: 295.0 EUR per night\n",
      "\n",
      "Room: #305\t Category: Suite\t Price: 350.0 EUR per night\n",
      "\n",
      "Room: #306\t Category: Suite\t Price: 350.0 EUR per night\n",
      "\n",
      "Room: #307\t Category: Superior\t Price: 295.0 EUR per night\n",
      "\n",
      "Room: #308\t Category: Superior\t Price: 295.0 EUR per night\n",
      "\n",
      "Room: #309\t Category: Superior\t Price: 295.0 EUR per night\n",
      "\n",
      "Room: #310\t Category: Premium Suite\t Price: 405.0 EUR per night\n",
      "\n"
     ]
    }
   ],
   "source": [
    "hotel_neptune.display_rooms()"
   ]
  },
  {
   "cell_type": "code",
   "execution_count": null,
   "id": "80f559fc-cd4e-4fee-b0ed-7aa6890a80e7",
   "metadata": {},
   "outputs": [],
   "source": []
  }
 ],
 "metadata": {
  "kernelspec": {
   "display_name": "Python [conda env:base] *",
   "language": "python",
   "name": "conda-base-py"
  },
  "language_info": {
   "codemirror_mode": {
    "name": "ipython",
    "version": 3
   },
   "file_extension": ".py",
   "mimetype": "text/x-python",
   "name": "python",
   "nbconvert_exporter": "python",
   "pygments_lexer": "ipython3",
   "version": "3.13.5"
  }
 },
 "nbformat": 4,
 "nbformat_minor": 5
}
