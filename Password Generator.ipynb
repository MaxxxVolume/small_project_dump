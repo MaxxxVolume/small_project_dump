{
 "cells": [
  {
   "cell_type": "markdown",
   "id": "e739fd67-ce61-4f56-9f17-59dbe8212984",
   "metadata": {
    "panel-layout": {
     "height": 60.59375,
     "visible": true,
     "width": 100
    }
   },
   "source": [
    "# Password Generator"
   ]
  },
  {
   "cell_type": "markdown",
   "id": "0efba119-4f1f-41aa-98f6-a302314f8425",
   "metadata": {},
   "source": [
    "## Selection and connection of features"
   ]
  },
  {
   "cell_type": "code",
   "execution_count": 45,
   "id": "75037c09-196f-4795-807a-740d86076232",
   "metadata": {
    "panel-layout": {
     "height": 0,
     "visible": true,
     "width": 100
    }
   },
   "outputs": [],
   "source": [
    "# importing useful libraries \n",
    "import string\n",
    "import random\n",
    "\n",
    "# imports the GUI library I want to use\n",
    "import tkinter as tk\n",
    "from tkinter import ttk\n",
    "from ttkthemes import ThemedStyle\n",
    "\n",
    "# defining the fundamental inputs\n",
    "LOWER = string.ascii_lowercase  # a-z = 26 characters\n",
    "UPPER = string.ascii_uppercase  # A-Z = 26 characters\n",
    "DIGITS = string.digits  # 0-9 = 10 characters\n",
    "SYMBOLS = string.punctuation  # special characters (!,#,@...) = 32 characters\n",
    "\n",
    "# ------------- FUNCTION FOR FEATURES -------------\n",
    "\n",
    "def generate_password(length, \n",
    "                      use_upper=True, use_digits=True, use_symbols=False):\n",
    "    \"\"\" \n",
    "    PASSWORD GENERATOR\n",
    "    ------------------\n",
    "    Generates a password of different Characters including letters,\n",
    "    numbers and symbols\n",
    "\n",
    "    length determines how long the password should be\\n\n",
    "    upper (default as True) determines if uppercase letters should be used\\n\n",
    "    digits (default as True) determines if digits should be used\\n\n",
    "    symbols (default as False) determines if symbols should be used\\n\n",
    "    lowercase letters are used by default and cannot be changed\n",
    "    \"\"\"\n",
    "    char_pool = LOWER  # generating a default list to use lower characters\n",
    "    # using independent if statements to check all of them seperately\n",
    "\n",
    "    # checking if uppercase letters should be used\n",
    "    if use_upper is True:\n",
    "        char_pool += UPPER\n",
    "\n",
    "    # checking if numbers should be used\n",
    "    if use_digits is True:\n",
    "        char_pool += DIGITS\n",
    "\n",
    "    # checking if symbols should be used\n",
    "    if use_symbols is True:\n",
    "        char_pool += SYMBOLS\n",
    "\n",
    "    password_chars = []  # creating a list to store all characters\n",
    "    for _ in range(length):\n",
    "        password_chars.append(random.choice(char_pool))\n",
    "        # adds all single charaters to the list\n",
    "    return \"\".join(password_chars)  # returns the list as string"
   ]
  },
  {
   "cell_type": "code",
   "execution_count": 2,
   "id": "43851c6d-71fa-4997-b978-ad73ae876e5f",
   "metadata": {},
   "outputs": [
    {
     "name": "stdout",
     "output_type": "stream",
     "text": [
      "AkkanJeiBw3s\n",
      "jksarqmtrtre\n",
      "@vz>%j>N#~`o\n",
      "b)nufl=xog}\\\n",
      "p%53[pI$*/sX\n"
     ]
    }
   ],
   "source": [
    "# test cell\n",
    "print(generate_password(12))\n",
    "print(generate_password(12, use_upper=False, use_digits=False))\n",
    "print(generate_password(12, use_digits=False, use_symbols=True))\n",
    "print(generate_password(12, use_upper=False, use_digits=False, use_symbols=True))\n",
    "print(generate_password(12, True, True, True))"
   ]
  },
  {
   "cell_type": "markdown",
   "id": "7b3841bd-dffa-48f1-b9cb-2464392226c7",
   "metadata": {},
   "source": [
    "## Creating the GUI"
   ]
  },
  {
   "cell_type": "markdown",
   "id": "28b99df7-d420-4e99-a1c0-1afa9f868012",
   "metadata": {},
   "source": [
    "### Creating Functions for features"
   ]
  },
  {
   "cell_type": "code",
   "execution_count": 44,
   "id": "46182008-670d-402e-8ed8-e1a85b690f50",
   "metadata": {},
   "outputs": [],
   "source": [
    "# ---------------- DEFINING THE FUNCTION FOR BUTTON COMANDS ----------------\n",
    "\n",
    "def button_command():\n",
    "    # 1 COLLECTING DATA: LENGTH\n",
    "    length_input = int(length_scale.get())\n",
    "\n",
    "\n",
    "    # 2 COLLECTING DATA: COMPLEXITY\n",
    "    upper_status = use_upper_var.get()\n",
    "    digits_status = use_digits_var.get()\n",
    "    symbols_status = use_symbols_var.get()\n",
    "\n",
    "    # 3 CALL GENERATOR\n",
    "    # uses the collected variables to call the function\n",
    "    password = generate_password(length_input, upper_status, digits_status, symbols_status)\n",
    "\n",
    "    # 4 DISPLAY PASSWORT\n",
    "    # update output label\n",
    "    output_label.config(text=f'Generated Password: {password}')\n",
    "\n",
    "# ---------------- DEFINING A FUNCTION TO COPY PASSWORD----------------\n",
    "def copy_password():\n",
    "    full_label_text = output_label.cget('text')\n",
    "\n",
    "    if 'Generated Password' in full_label_text:\n",
    "        password_to_copy = full_label_text.split(\"Generated Password: \")[-1]\n",
    "\n",
    "    else:\n",
    "        password_to_copy = full_label_text\n",
    "        \n",
    "    root.clipboard_clear()\n",
    "    root.clipboard_append(password_to_copy)"
   ]
  },
  {
   "cell_type": "markdown",
   "id": "42a8509a-cac1-4ae4-8f8b-9017bcb7f7f9",
   "metadata": {},
   "source": [
    "### Visualization and Interface"
   ]
  },
  {
   "cell_type": "code",
   "execution_count": 102,
   "id": "888a11b2-b676-45fd-a96e-174c6124b188",
   "metadata": {},
   "outputs": [],
   "source": [
    "root = tk.Tk()\n",
    "root.title('Password Generator')\n",
    "\n",
    "# Creating a Style object\n",
    "style = ThemedStyle(root)\n",
    "# setting a style theme\n",
    "style.theme_use('breeze')\n",
    "\n",
    "\n",
    "# ---------------- DEFINING CONTROL VARIABLES  ----------------\n",
    "# storing the booleans from the function\n",
    "use_upper_var = tk.BooleanVar(value=True)  # starts as True\n",
    "use_digits_var = tk.BooleanVar(value=True)  # starts as True\n",
    "use_symbols_var = tk.BooleanVar(value=False)  # starts as False\n",
    "\n",
    "# variable for length_scale needed\n",
    "\n",
    "scale_display_text = tk.StringVar(value='8')\n",
    "\n",
    "def update_scale_label(value):\n",
    "    integer_value = int(float(value))\n",
    "    scale_display_text.set(str(integer_value))\n",
    "\n",
    "\n",
    "#  ---------------- CREATING WIDGETS  ----------------\n",
    "\n",
    "# creating a label to tell the user what to do\n",
    "length_label = ttk.Label(root, text='Password Length:')\n",
    "output_label = ttk.Label(root, text='Generated Password')\n",
    "\n",
    "# creating a scale to determine the password length\n",
    "length_scale = ttk.Scale(root,\n",
    "                        from_=8,  # min lenngth\n",
    "                        to=40,  # max length\n",
    "                        orient=tk.HORIZONTAL,  # scale is horizontally\n",
    "                        length=200,\n",
    "                        command=update_scale_label)  # value in single-steps\n",
    "\n",
    "# Creating a label for the scale\n",
    "length_display_label = ttk.Label(root, textvariable=scale_display_text)\n",
    "\n",
    "# CREATING CHECKBUTTONS and link them with the variables\n",
    "upper_check = ttk.Checkbutton(root, text='Uppercase letters (A_Z)', variable=use_upper_var)\n",
    "digit_check = ttk.Checkbutton(root, text='Numbers (0-9)', variable=use_digits_var)\n",
    "symbol_check = ttk.Checkbutton(root, text='Symbols (!@#$)', variable=use_symbols_var)\n",
    "\n",
    "# CREATING A START BUTTON\n",
    "start_button = ttk.Button(root, text='Generate', command=button_command)\n",
    "\n",
    "# CREATING A COPY BUTTON\n",
    "copy_button = ttk.Button(root, text='Copy to Clipboard', command=copy_password)\n",
    "# ---------------- ARRANGING WIDGETS (GRID)  ----------------\n",
    "\n",
    "# putting the line at the top of th window; sticky 'w' = left-aligned\n",
    "length_label.grid(row=0, column=0, sticky='w', padx=5, pady=5)\n",
    "# sets the enter button at the top, right next to the label because of column 1\n",
    "length_scale.grid(row=0, column=1, columnspan=3, sticky='w', padx=5, pady=5)\n",
    "# padx and pady add space horizontally and vertically \n",
    "\n",
    "# aligning the label for the scale\n",
    "length_display_label.grid(row=0, column=4, sticky='w', padx=5, pady=5)\n",
    "\n",
    "# aligning the buttons next to each other\n",
    "upper_check.grid(row=1, column=0, sticky='w', padx=5, pady=5)\n",
    "digit_check.grid(row=1, column=1, sticky='w', padx=5, pady=5)\n",
    "symbol_check.grid(row=1, column=3, sticky='w', padx=5, pady=5)\n",
    "\n",
    "# aligning the starting button below the checkbuttons spanning multiple columns\n",
    "start_button.grid(row=2, column=0, columnspan=3, pady=10)\n",
    "\n",
    "# aliging the output label at the end spanning multiple columns\n",
    "output_label.grid(row=3, column=0, columnspan=2, sticky='w', padx=5, pady=10)\n",
    "copy_button.grid(row=3, column=3, columnspan=2, sticky='w', padx=5, pady=10)\n",
    "\n",
    "\n",
    "# starts the application\n",
    "root.mainloop()"
   ]
  },
  {
   "cell_type": "code",
   "execution_count": null,
   "id": "63d5fbae-c340-45d5-899c-6f4ef9dd913b",
   "metadata": {},
   "outputs": [],
   "source": []
  }
 ],
 "metadata": {
  "kernelspec": {
   "display_name": "Python [conda env:base] *",
   "language": "python",
   "name": "conda-base-py"
  },
  "language_info": {
   "codemirror_mode": {
    "name": "ipython",
    "version": 3
   },
   "file_extension": ".py",
   "mimetype": "text/x-python",
   "name": "python",
   "nbconvert_exporter": "python",
   "pygments_lexer": "ipython3",
   "version": "3.13.5"
  },
  "panel-cell-order": [
   "e739fd67-ce61-4f56-9f17-59dbe8212984",
   "d6e746cb-a2bf-4854-9da6-8a080c7d7ee3",
   "0c0075a8-e88c-4a6e-b326-eb80f0634e3a",
   "75037c09-196f-4795-807a-740d86076232"
  ]
 },
 "nbformat": 4,
 "nbformat_minor": 5
}
