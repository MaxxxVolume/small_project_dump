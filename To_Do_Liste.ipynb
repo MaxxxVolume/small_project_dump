{
  "nbformat": 4,
  "nbformat_minor": 0,
  "metadata": {
    "colab": {
      "provenance": [],
      "authorship_tag": "ABX9TyPA6QktL26Gs2JhomHG7TEw",
      "include_colab_link": true
    },
    "kernelspec": {
      "name": "python3",
      "display_name": "Python 3"
    },
    "language_info": {
      "name": "python"
    }
  },
  "cells": [
    {
      "cell_type": "markdown",
      "metadata": {
        "id": "view-in-github",
        "colab_type": "text"
      },
      "source": [
        "<a href=\"https://colab.research.google.com/github/MaxxxVolume/small_projects/blob/main/To_Do_Liste.ipynb\" target=\"_parent\"><img src=\"https://colab.research.google.com/assets/colab-badge.svg\" alt=\"Open In Colab\"/></a>"
      ]
    },
    {
      "cell_type": "markdown",
      "source": [
        "# **Plan**: Eine To Do Liste, bei der der Nutzer Aufgaben hinzufügen, erledigen löschen und aktualisieren kann\n",
        "\n"
      ],
      "metadata": {
        "id": "AYyXTYjEfCSB"
      }
    },
    {
      "cell_type": "markdown",
      "source": [],
      "metadata": {
        "id": "xVcDHK2nQ2z4"
      }
    },
    {
      "cell_type": "markdown",
      "source": [
        "Datenstruktur:\n",
        "- Aufgabe\n",
        "- Priorität\n",
        "- Fälligkeit\n",
        "- Status"
      ],
      "metadata": {
        "id": "-Kcs1n_ag3nY"
      }
    },
    {
      "cell_type": "markdown",
      "source": [
        "**Schritt 1: Wie speichere ich meine To Do's**"
      ],
      "metadata": {
        "id": "CGNBfXfnxNpt"
      }
    },
    {
      "cell_type": "code",
      "source": [
        "# Die beste Idee ist ein Dictionary, da dabei die einzelnen Inhalte jeweils veränderbar sind\n",
        "to_do_old= {1:['Wäsche waschen''Hoch','Montag 10:00 Uhr', False], 2:['Sport','Mittel','Samstag 09:00 Uhr',True]}\n",
        "to_do_old # zu kompliziert, da der jeweilige Index von 1 oder 2 benötigt wird"
      ],
      "metadata": {
        "colab": {
          "base_uri": "https://localhost:8080/"
        },
        "id": "SdIuhQ74fYvS",
        "outputId": "6af220ea-bc86-48cc-bd6d-956dae97afaf"
      },
      "execution_count": null,
      "outputs": [
        {
          "output_type": "execute_result",
          "data": {
            "text/plain": [
              "{1: ['Wäsche waschenHoch', 'Montag 10:00 Uhr', False],\n",
              " 2: ['Sport', 'Mittel', 'Samstag 09:00 Uhr', True]}"
            ]
          },
          "metadata": {},
          "execution_count": 93
        }
      ]
    },
    {
      "cell_type": "code",
      "source": [
        "# Besser: Eine Liste, die mehrere Dictionaries in sich trägt - task, priority, deadline und status\n",
        "to_do = [{'task': 'Wäsche waschen','priority': 'Hoch', 'deadline': 'Montag 10:00 Uhr', 'status': False},\n",
        "             {'task': 'Sport','priority': 'Mittel', 'deadline': 'Samstag 09:00 Uhr', 'status': True}]\n",
        "to_do"
      ],
      "metadata": {
        "colab": {
          "base_uri": "https://localhost:8080/"
        },
        "id": "vLSkRx5_nGuI",
        "outputId": "10d182b0-ee80-484a-e298-425a55b52405"
      },
      "execution_count": null,
      "outputs": [
        {
          "output_type": "execute_result",
          "data": {
            "text/plain": [
              "[{'task': 'Wäsche waschen',\n",
              "  'priority': 'Hoch',\n",
              "  'deadline': 'Montag 10:00 Uhr',\n",
              "  'status': False},\n",
              " {'task': 'Sport',\n",
              "  'priority': 'Mittel',\n",
              "  'deadline': 'Samstag 09:00 Uhr',\n",
              "  'status': True}]"
            ]
          },
          "metadata": {},
          "execution_count": 94
        }
      ]
    },
    {
      "cell_type": "markdown",
      "source": [
        "**Schritt 2: Wie soll die Liste angezeigt werden?**"
      ],
      "metadata": {
        "id": "AeRMIVuGx9__"
      }
    },
    {
      "cell_type": "code",
      "source": [
        "# Die Funktion soll die Liste in einer einfachen Ansicht anzeigen und dem User die Variablen erklären\n",
        "def show_to_do(to_do_list):\n",
        "  for index, to_do_item in enumerate(to_do): # damit ich später bei der Lösch-Funktion die Aufgaben auswöhlen kann\n",
        "    print(f\"\"\"{index + 1} Aufgabe: {to_do_item['task']}\n",
        "          Priorität {to_do_item['priority']}\n",
        "          Zu erledigen bis {to_do_item['deadline']}\n",
        "          Erledigt? {to_do_item['status']}\n",
        "          \"\"\")\n",
        "\n",
        "\n",
        "show_to_do(to_do)"
      ],
      "metadata": {
        "colab": {
          "base_uri": "https://localhost:8080/"
        },
        "id": "ZjO66ut3p-hd",
        "outputId": "2b806ae8-ee4b-4372-a935-390aa168598d",
        "collapsed": true
      },
      "execution_count": null,
      "outputs": [
        {
          "output_type": "stream",
          "name": "stdout",
          "text": [
            "1 Aufgabe: Wäsche waschen\n",
            "          Priorität Hoch\n",
            "          Zu erledigen bis Montag 10:00 Uhr\n",
            "          Erledigt? False\n",
            "          \n",
            "2 Aufgabe: Sport\n",
            "          Priorität Mittel\n",
            "          Zu erledigen bis Samstag 09:00 Uhr\n",
            "          Erledigt? True\n",
            "          \n"
          ]
        }
      ]
    },
    {
      "cell_type": "markdown",
      "source": [
        "**Schritt 3: Interface**"
      ],
      "metadata": {
        "id": "QNpOmnE5yGb9"
      }
    },
    {
      "cell_type": "code",
      "source": [
        "# Das Menü\n",
        "menu = f\"\"\"\n",
        "Menü:\n",
        "{1}: Aufgaben anzeigen\n",
        "{2}: Aufgabe hinzufügen\n",
        "{3}: Aufgabe löschen\n",
        "{4}: Aufgabe bearbeiten\n",
        "{5}: Status Ändern\n",
        "{6}: Beenden\"\"\"\n"
      ],
      "metadata": {
        "id": "C7otAdpmiVHW"
      },
      "execution_count": null,
      "outputs": []
    },
    {
      "cell_type": "markdown",
      "source": [
        "**Schritt 4: Alle Funktionen und Tools**\n",
        "\n",
        "Der User soll neben der Anzeige auch  folgendes tun können:\n",
        "- Aufgabe hinzufügen\n",
        "- Aufgabe löschen\n",
        "- Aufgabe bearbeiten\n",
        "- Status einer Aufgabe ändern"
      ],
      "metadata": {
        "id": "xA3qf9CXiXcM"
      }
    },
    {
      "cell_type": "code",
      "source": [
        "# Aufgabe hinzufügen\n",
        "def add_task():\n",
        "  user_inp_task = input('Welche Aufgabe möchtest du hinzufügen? ')\n",
        "  user_inp_prio = input('Welche Priorität hat die Aufgabe? ')\n",
        "  user_inp_deadline = input('Bis wann soll die Aufgabe erledigt werden? ')\n",
        "  print(f'Deine neue Aufgabe \"{user_inp_task}\" wurde erfolgreich erstellt! Sieh dir deine Aufgaben mit 1 Aufgaben anzeigen an.')\n",
        "  return {'task': user_inp_task, 'priority': user_inp_prio, 'deadline': user_inp_deadline, 'status': False}"
      ],
      "metadata": {
        "id": "ESIlwGfriW7K"
      },
      "execution_count": null,
      "outputs": []
    },
    {
      "cell_type": "code",
      "source": [
        "# Aufgabe löschen\n",
        "def delete_task(to_do_list):\n",
        "  show_to_do(to_do_list)\n",
        "  while True:\n",
        "    user_deletion = input('Welche Aufgabe soll gelöscht werden? (Bitte gib wieder den Index der Aufgabe ein) ')\n",
        "    user_deletion_as_int = int(user_deletion)\n",
        "    if user_deletion_as_int >= 1 and user_deletion_as_int <= len(to_do_list):\n",
        "      break\n",
        "    else:\n",
        "      print(\"WHAT'S GOING ON HERE?!...Da ist etwas schief gelaufen. Bitte überprüfe deine Eingabe\")\n",
        "\n",
        "  final_deletion = to_do_list.pop(user_deletion_as_int - 1)\n",
        "  print(f\"Aufgabe #{user_deletion_as_int}: {final_deletion['task']} wurde gelöscht\" '\\n')"
      ],
      "metadata": {
        "id": "dbgjCQ00xrv-"
      },
      "execution_count": null,
      "outputs": []
    },
    {
      "cell_type": "code",
      "source": [
        "# Status bearbeiten\n",
        "def change_status(to_do_list):\n",
        "  show_to_do(to_do_list)\n",
        "  while True:\n",
        "    user_change = input('Von welcher Aufgabe soll der Status geändert werden? (Bitte gib wieder den Index der Aufgabe ein) ')\n",
        "    user_change_as_int = int(user_change)\n",
        "    if user_change_as_int >= 1 and user_change_as_int <= len(to_do_list):\n",
        "      break\n",
        "    else:\n",
        "      print(\"WHAT'S GOING ON HERE?!...Da ist etwas schief gelaufen. Bitte überprüfe deine Eingabe\")\n",
        "\n",
        "\n",
        "  task_to_change = to_do_list[user_change_as_int - 1]\n",
        "  changing_status = not task_to_change['status']\n",
        "  task_to_change['status'] = changing_status\n",
        "  print(f\"Dein Status der Aufgabe '{task_to_change['task']}' wurde erfolgreich geändert!\")"
      ],
      "metadata": {
        "id": "j9iKIB3cQ8P_"
      },
      "execution_count": null,
      "outputs": []
    },
    {
      "cell_type": "code",
      "source": [
        "# Aufgabe bearbeiten\n",
        "def edit_task(to_do_list):\n",
        "  show_to_do(to_do_list)\n",
        "  while True:\n",
        "    user_inp_choice = input('Welche Aufgabe soll bearbeitet werden? (Bitte gib wieder den Index der Aufgabe ein) ')\n",
        "    user_inp_choice_as_int = int(user_inp_choice)\n",
        "    if user_inp_choice_as_int >= 1 and user_inp_choice_as_int <= len(to_do_list):\n",
        "      break\n",
        "    else:\n",
        "      print(\"WHAT'S GOING ON HERE?!...Da ist etwas schief gelaufen. Bitte überprüfe deine Eingabe\")\n",
        "\n",
        "  task_to_edit = to_do_list[user_inp_choice_as_int - 1]\n",
        "  while True:\n",
        "    user_inp_edit = input('Was möchtest du Ändern? (Name, Priorität, Deadline,Beenden) ')\n",
        "    if user_inp_edit == 'Name':\n",
        "      user_edit_name = input('Wie lautet der neue Name der Aufgabe? ')\n",
        "      task_to_edit['task'] = user_edit_name\n",
        "    elif user_inp_edit == 'Priorität':\n",
        "      user_edit_priority = input('Welche Priorität soll die Aufgabe von nun an haben? ')\n",
        "      task_to_edit['priority'] = user_edit_priority\n",
        "    elif user_inp_edit == 'Deadline':\n",
        "      user_edit_deadline = input('Bis wann soll die Aufgabe von nun an erledigt werden? ')\n",
        "      task_to_edit['deadline'] = user_edit_deadline\n",
        "    elif user_inp_edit == 'Beenden':\n",
        "      print('Na gut, kehren wir zurück zum Menü :=)' + '\\n')\n",
        "      break\n",
        "    else:\n",
        "      print(\"WHAT'S GOING ON HERE?!...Da ist etwas schief gelaufen. Bitte überprüfe deine Eingabe\")\n",
        "  print(f'Deine Neue Aufgabe: {to_do_list[user_inp_choice_as_int - 1]}')\n"
      ],
      "metadata": {
        "id": "1jM3Y9AmRC9O"
      },
      "execution_count": null,
      "outputs": []
    },
    {
      "cell_type": "markdown",
      "source": [
        "# Das Hauptprogramm und die Ausführung:"
      ],
      "metadata": {
        "id": "U-vPxaP1ia7j"
      }
    },
    {
      "cell_type": "code",
      "source": [
        "# Der Hauptcode den der User benutzt\n",
        "while True:\n",
        " # Das Menü soll so lange angezeigt werden, bis der User es aktiv beendeet -> While Schleife\n",
        "  print(menu)\n",
        "  user_choice = input('\\n' 'Gib bitte eine der vorstehenden Ziffern ein: ')\n",
        "  print('\\n')\n",
        "  if user_choice == '1':\n",
        "    show_to_do(to_do)\n",
        "  elif user_choice == '2':\n",
        "    new_task = add_task()\n",
        "    to_do.append(new_task)\n",
        "  elif user_choice == '3':\n",
        "    delete = delete_task(to_do)\n",
        "  elif user_choice == '4':\n",
        "    edit_task(to_do)\n",
        "  elif user_choice == '5':\n",
        "    change_status(to_do)\n",
        "  elif user_choice == '6':\n",
        "    print('See you later Aligator!')\n",
        "    break\n",
        "  else:\n",
        "    print(\"Ungültige Eingabe. Bitte versuch's erneut!\")\n",
        "# damit der Code nicht einfach nur neu generiert wird und verwirrt und der user weiß was zu tun ist"
      ],
      "metadata": {
        "id": "-i38gLjTyi35",
        "collapsed": true
      },
      "execution_count": null,
      "outputs": []
    }
  ]
}